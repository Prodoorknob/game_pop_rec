{
 "cells": [
  {
   "cell_type": "code",
   "execution_count": 1,
   "id": "0f55d0a9",
   "metadata": {},
   "outputs": [],
   "source": [
    "from igdb_puller import pull_games_and_dependents, pull_tables_as_globals\n",
    "import pandas as pd\n",
    "import numpy as np\n",
    "import matplotlib.pyplot as plt\n",
    "import plotly.express as px\n",
    "from pathlib import Path\n",
    "import re"
   ]
  },
  {
   "cell_type": "code",
   "execution_count": 2,
   "id": "adfff0b9",
   "metadata": {},
   "outputs": [
    {
     "name": "stdout",
     "output_type": "stream",
     "text": [
      "Created df_games                            from 'games'  shape=(500, 56)\n",
      "Created df_game_time_to_beats               from 'game_time_to_beats'  shape=(219, 9)\n",
      "Created df_popularity_primitives            from 'popularity_primitives'  shape=(2439, 9)\n",
      "Created df_artworks                         from 'artworks'  shape=(858, 10)\n",
      "Created df_covers                           from 'covers'  shape=(500, 9)\n",
      "Created df_external_games                   from 'external_games'  shape=(1904, 15)\n",
      "Created df_game_localizations               from 'game_localizations'  shape=(282, 8)\n",
      "Created df_involved_companies               from 'involved_companies'  shape=(1566, 10)\n",
      "Created df_language_supports                from 'language_supports'  shape=(2541, 7)\n",
      "Created df_multiplayer_modes                from 'multiplayer_modes'  shape=(139, 14)\n",
      "Created df_release_dates                    from 'release_dates'  shape=(2679, 16)\n",
      "Created df_screenshots                      from 'screenshots'  shape=(2910, 9)\n",
      "Created df_game_videos                      from 'game_videos'  shape=(907, 5)\n",
      "Created df_websites                         from 'websites'  shape=(2483, 6)\n",
      "Created df_age_ratings                      from 'age_ratings'  shape=(1438, 9)\n",
      "Created df_genres                           from 'genres'  shape=(21, 7)\n",
      "Created df_keywords                         from 'keywords'  shape=(1862, 7)\n",
      "Created df_platforms                        from 'platforms'  shape=(80, 17)\n",
      "Created df_player_perspectives              from 'player_perspectives'  shape=(6, 7)\n",
      "Created df_game_modes                       from 'game_modes'  shape=(5, 7)\n",
      "Created df_franchises                       from 'franchises'  shape=(81, 8)\n",
      "Done pulling games and dependents.\n"
     ]
    }
   ],
   "source": [
    "pull_games_and_dependents(max_games=500, include_second_order=True)"
   ]
  },
  {
   "cell_type": "code",
   "execution_count": 3,
   "id": "7911845f",
   "metadata": {},
   "outputs": [
    {
     "name": "stdout",
     "output_type": "stream",
     "text": [
      "df_age_ratings (1438, 9)\n",
      "df_artworks (858, 10)\n",
      "df_covers (500, 9)\n",
      "df_external_games (1904, 15)\n",
      "df_franchises (81, 8)\n",
      "df_game_localizations (282, 8)\n",
      "df_game_modes (5, 7)\n",
      "df_game_time_to_beats (219, 9)\n",
      "df_game_videos (907, 5)\n",
      "df_games (500, 56)\n",
      "df_genres (21, 7)\n",
      "df_involved_companies (1566, 10)\n",
      "df_keywords (1862, 7)\n",
      "df_language_supports (2541, 7)\n",
      "df_multiplayer_modes (139, 14)\n",
      "df_platforms (80, 17)\n",
      "df_player_perspectives (6, 7)\n",
      "df_popularity_primitives (2439, 9)\n",
      "df_release_dates (2679, 16)\n",
      "df_screenshots (2910, 9)\n",
      "df_websites (2483, 6)\n"
     ]
    }
   ],
   "source": [
    "for k, v in sorted((k, v) for k, v in globals().items() if k.startswith('df_') and isinstance(v, pd.DataFrame)):\n",
    "    print(k, v.shape)"
   ]
  }
 ],
 "metadata": {
  "kernelspec": {
   "display_name": "base",
   "language": "python",
   "name": "python3"
  },
  "language_info": {
   "codemirror_mode": {
    "name": "ipython",
    "version": 3
   },
   "file_extension": ".py",
   "mimetype": "text/x-python",
   "name": "python",
   "nbconvert_exporter": "python",
   "pygments_lexer": "ipython3",
   "version": "3.12.3"
  }
 },
 "nbformat": 4,
 "nbformat_minor": 5
}
