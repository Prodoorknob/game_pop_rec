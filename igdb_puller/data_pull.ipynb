{
 "cells": [
  {
   "cell_type": "code",
   "execution_count": null,
   "id": "ecc8cdaa",
   "metadata": {},
   "outputs": [],
   "source": [
    "#time_to_beat is related to games by gamed_id->id --> related table\n",
    "#popularity_primitives is related to games by gamed_id->id --> related table\n",
    "#genre can be pulled by itself--> bridge table\n",
    "#popularity_types can be pulled by itself--> bridge table\n",
    "#platforms can be pulled by itself--> bridge table\n",
    "#platform_families can be pulled by itself--> bridge table for platforms \n",
    "#platform_logos can be pulled by itself--> bridge table for platforms\n",
    "#platform_types can be pulled by itself--> bridge table for platforms\n",
    "#platform_versions can be pulled by itself--> bridge table for platforms"
   ]
  },
  {
   "cell_type": "code",
   "execution_count": 4,
   "id": "90cd332b",
   "metadata": {},
   "outputs": [
    {
     "data": {
      "text/plain": [
       "WindowsPath('igdb_age_ratings_20250930_1832.csv')"
      ]
     },
     "execution_count": 4,
     "metadata": {},
     "output_type": "execute_result"
    }
   ],
   "source": [
    "from igdb_puller import pull_table\n",
    "pull_table(endpoint=\"age_ratings\", fields=\"*\", fmt=\"csv\", max_rows=None)"
   ]
  },
  {
   "cell_type": "code",
   "execution_count": 51,
   "id": "ad2f33c0",
   "metadata": {},
   "outputs": [],
   "source": [
    "def pull_all(tables):\n",
    "    for i in tables:\n",
    "        pull_table(endpoint=i, fields=\"*\", fmt=\"csv\", max_rows=None)\n",
    "        print(f\"Data for table {i} pulled from the API\")"
   ]
  },
  {
   "cell_type": "code",
   "execution_count": null,
   "id": "d0e9389c",
   "metadata": {},
   "outputs": [],
   "source": [
    "#tables=['genres','popularity_types','platforms','platform_families','platform_logos','platform_types','platform_versions']\n",
    "tables=['age_rating_organizations','age_rating_categories','age_rating_content_descriptions_v2']"
   ]
  },
  {
   "cell_type": "code",
   "execution_count": null,
   "id": "4c0fe4b4",
   "metadata": {},
   "outputs": [],
   "source": [
    "pull_all(tables)"
   ]
  }
 ],
 "metadata": {
  "kernelspec": {
   "display_name": "base",
   "language": "python",
   "name": "python3"
  },
  "language_info": {
   "codemirror_mode": {
    "name": "ipython",
    "version": 3
   },
   "file_extension": ".py",
   "mimetype": "text/x-python",
   "name": "python",
   "nbconvert_exporter": "python",
   "pygments_lexer": "ipython3",
   "version": "3.12.3"
  }
 },
 "nbformat": 4,
 "nbformat_minor": 5
}
