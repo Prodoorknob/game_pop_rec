{
 "cells": [
  {
   "cell_type": "code",
   "execution_count": 1,
   "id": "41266943",
   "metadata": {},
   "outputs": [],
   "source": [
    "import pandas as pd\n",
    "import numpy as np"
   ]
  },
  {
   "cell_type": "code",
   "execution_count": 2,
   "id": "c71afb78",
   "metadata": {},
   "outputs": [],
   "source": [
    "popularity_data = pd.read_csv(r\"C:\\Users\\guyon\\OneDrive\\Desktop\\igdb_data\\igdb_data\\igdb_popularity_primitives_20250925_1153.csv\")\n",
    "time_to_beat = pd.read_csv(r\"C:\\Users\\guyon\\OneDrive\\Desktop\\igdb_data\\igdb_data\\igdb_game_time_to_beats_20250925_1112.csv\")\n",
    "games = pd.read_csv(r\"C:\\Users\\guyon\\OneDrive\\Desktop\\igdb_data\\igdb_data\\igdb_games_20250925_1105.csv\")"
   ]
  },
  {
   "cell_type": "code",
   "execution_count": 3,
   "id": "1443212d",
   "metadata": {},
   "outputs": [
    {
     "name": "stdout",
     "output_type": "stream",
     "text": [
      "10000\n",
      "                     column  null_count\n",
      "0               age_ratings        2200\n",
      "1         aggregated_rating        5053\n",
      "2   aggregated_rating_count        5053\n",
      "3         alternative_names        3985\n",
      "4                  artworks        6380\n",
      "5                   bundles        7666\n",
      "6                     cover          63\n",
      "7            external_games          76\n",
      "8        first_release_date         131\n",
      "9              game_engines        7856\n",
      "10               game_modes         290\n",
      "11                   genres         145\n",
      "12       involved_companies         257\n",
      "13                 keywords         790\n",
      "14        multiplayer_modes        8162\n",
      "15                platforms          64\n",
      "16      player_perspectives        1441\n",
      "17                   rating        2931\n",
      "18             rating_count        2931\n",
      "19            release_dates          80\n",
      "20              screenshots        1352\n",
      "21            similar_games          54\n",
      "22                storyline        7575\n",
      "23                  summary         258\n",
      "24                     tags          54\n",
      "25                   themes        1400\n",
      "26             total_rating        2275\n",
      "27       total_rating_count        2275\n",
      "28                   videos        3664\n",
      "29                 websites         163\n",
      "30        language_supports        4559\n",
      "31              collections        3316\n"
     ]
    }
   ],
   "source": [
    "# Print number of rows in games\n",
    "print(len(games))\n",
    "\n",
    "# Count nulls in each column\n",
    "null_counts = games.isnull().sum()\n",
    "\n",
    "# Filter only columns with null values\n",
    "null_df = null_counts[null_counts > 0].reset_index()\n",
    "null_df.columns = [\"column\", \"null_count\"]\n",
    "\n",
    "# Print the results\n",
    "print(null_df)\n",
    "\n",
    "# print(null_df.iloc[[23, 24, 25, 26, 27]])\n"
   ]
  },
  {
   "cell_type": "code",
   "execution_count": 5,
   "id": "d31c8071",
   "metadata": {},
   "outputs": [
    {
     "name": "stdout",
     "output_type": "stream",
     "text": [
      "Index(['id', 'aggregated_rating', 'aggregated_rating_count', 'created_at',\n",
      "       'genres', 'name', 'platforms', 'player_perspectives', 'rating',\n",
      "       'rating_count', 'release_dates', 'slug', 'total_rating',\n",
      "       'total_rating_count', 'updated_at', 'url', 'checksum', 'game_type'],\n",
      "      dtype='object')\n"
     ]
    }
   ],
   "source": [
    "# list of columns to drop in games table that have null values and are not needed for analysis\n",
    "cols_to_drop = ['age_ratings', 'alternative_names', 'artworks', 'bundles', 'cover', 'external_games', \n",
    "                'first_release_date', 'game_engines', 'game_modes', 'involved_companies', 'keywords',\n",
    "                'multiplayer_modes', 'screenshots', 'similar_games', 'storyline', 'summary', 'tags',\n",
    "                'themes', 'videos', 'websites', 'language_supports', 'collections']\n",
    "games = games.drop(columns=cols_to_drop)\n",
    "print(games.columns)"
   ]
  },
  {
   "cell_type": "code",
   "execution_count": null,
   "id": "6c5c7cd6",
   "metadata": {},
   "outputs": [],
   "source": [
    "# Fill nulls in string columns with 'Unknown'\n",
    "for col in ['genre', 'platforms', 'player_perspectives']:\n",
    "    if col in games.columns:\n",
    "        games[col] = games[col].fillna('Unknown')\n",
    "\n",
    "# Fill nulls with average for numeric columns\n",
    "for col in ['aggregated_rating', 'aggregated_rating_count', 'rating', 'rating_count', 'total_rating', 'total_rating_count']:\n",
    "    if col in games.columns:\n",
    "        avg_value = games[col].mean()\n",
    "        games[col] = games[col].fillna(avg_value)\n",
    "\n",
    "# Convert 'aggregated_rating', 'rating', and 'total_rating' to floats and 1 decimal place\n",
    "for col in ['aggregated_rating', 'rating', 'total_rating']:\n",
    "    if col in games.columns:\n",
    "        games[col] = games[col].astype(float).round(1)\n",
    "\n",
    "# Fill nulls in 'release_dates' with median date:\n",
    "# if 'release_dates' in games.columns:\n",
    "   #  median_date = games['release_dates'].median()\n",
    "   #  games['release_dates'] = games['release_dates'].fillna(median_date)"
   ]
  },
  {
   "cell_type": "code",
   "execution_count": null,
   "id": "1bab1dbd",
   "metadata": {},
   "outputs": [
    {
     "name": "stdout",
     "output_type": "stream",
     "text": [
      "6092\n",
      "       column  null_count\n",
      "0     hastily        3008\n",
      "1    normally        1288\n",
      "2  completely        2623\n"
     ]
    }
   ],
   "source": [
    "# Print number of rows in time_to_beat\n",
    "print(len(time_to_beat))\n",
    "\n",
    "# Count nulls in each column\n",
    "null_counts = time_to_beat.isnull().sum()\n",
    "\n",
    "# Filter only columns with null values\n",
    "null_df = null_counts[null_counts > 0].reset_index()\n",
    "null_df.columns = [\"column\", \"null_count\"]\n",
    "\n",
    "# Print the results\n",
    "print(null_df)"
   ]
  },
  {
   "cell_type": "code",
   "execution_count": null,
   "id": "24b9e9c8",
   "metadata": {},
   "outputs": [
    {
     "name": "stdout",
     "output_type": "stream",
     "text": [
      "222990\n",
      "Empty DataFrame\n",
      "Columns: [column, null_count]\n",
      "Index: []\n"
     ]
    }
   ],
   "source": [
    "# Fill nulls with average for numeric columns\n",
    "for col in ['hastily', 'normally', 'completely']:\n",
    "    if col in time_to_beats.columns:\n",
    "        avg_value = time_to_beat[col].mean()\n",
    "        time_to_beat[col] = time_to_beat[col].fillna(avg_value)"
   ]
  }
 ],
 "metadata": {
  "kernelspec": {
   "display_name": "test1",
   "language": "python",
   "name": "python3"
  },
  "language_info": {
   "codemirror_mode": {
    "name": "ipython",
    "version": 3
   },
   "file_extension": ".py",
   "mimetype": "text/x-python",
   "name": "python",
   "nbconvert_exporter": "python",
   "pygments_lexer": "ipython3",
   "version": "3.13.5"
  }
 },
 "nbformat": 4,
 "nbformat_minor": 5
}
